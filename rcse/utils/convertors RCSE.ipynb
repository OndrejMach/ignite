{
 "cells": [
  {
   "cell_type": "markdown",
   "metadata": {},
   "source": [
    "stageFles: {\n",
    "            clientPath : \"/Users/ondrejmachacek/Projects/TMobile/EWH/EWH/rcse/data/stage/cptm_ta_d_rcse_client.csv*\",\n",
    "            terminalSWPath : \"/Users/ondrejmachacek/Projects/TMobile/EWH/EWH/rcse/data/stage/cptm_ta_d_rcse_terminal_sw.csv*\",\n",
    "            imsisEncodedPath : \"/Users/ondrejmachacek/Projects/TMobile/EWH/EWH/rcse/data/input/imsis_encoded.csv*\",\n",
    "            msisdnsEncodedPath : \"/Users/ondrejmachacek/Projects/TMobile/EWH/EWH/rcse/data/input/msisdns_encoded.csv*\",\n",
    "            terminalPath : \"/Users/ondrejmachacek/Projects/TMobile/EWH/EWH/rcse/data/stage/cptm_ta_d_rcse_terminal.csv*\",\n",
    "            tacPath : \"/Users/ondrejmachacek/Projects/TMobile/EWH/EWH/rcse/data/stage/cptm_ta_d_tac.csv*\",\n",
    "            regDerEventsToday : \"/Users/ondrejmachacek/Projects/TMobile/EWH/EWH/rcse/data/stage/cptm_ta_f_rcse_events.TMD.20200607.reg_der.csv\",\n",
    "            regDerEventsYesterday : \"/Users/ondrejmachacek/Projects/TMobile/EWH/EWH/rcse/data/stage/cptm_ta_f_rcse_events.TMD.20200606.reg_der.csv*\",\n",
    "            activeUsersToday : \"/Users/ondrejmachacek/Projects/TMobile/EWH/EWH/rcse/data/stage/cptm_ta_f_rcse_active_user.TMD.20200607.csv*\",\n",
    "            activeUsersYesterday : \"/Users/ondrejmachacek/Projects/TMobile/EWH/EWH/rcse/data/stage/cptm_ta_f_rcse_active_user.TMD.20200606.csv*\",\n",
    "            confFile : \"/Users/ondrejmachacek/Projects/TMobile/EWH/EWH/rcse/data/stage/cptm_ta_f_rcse_conf.TMD.csv*\",\n",
    "            initUser : \"/Users/ondrejmachacek/Projects/TMobile/EWH/EWH/rcse/data/stage/cptm_ta_x_rcse_init_user.TMD.csv*\",\n",
    "            initConf : \"/Users/ondrejmachacek/Projects/TMobile/EWH/EWH/rcse/data/stage/cptm_ta_x_rcse_init_conf.TMD.csv*\",\n",
    "            dmEventsFile: \"/Users/ondrejmachacek/tmp/rcse/stage/cptm_ta_f_rcse_events.TMD.20200607.dm.csv\",\n",
    "            uauFile: \"/Users/ondrejmachacek/tmp/rcse/stage/cptm_ta_x_rcse_uau_d.TMD.20200607.csv\"\n",
    "        },"
   ]
  },
  {
   "cell_type": "code",
   "execution_count": 44,
   "metadata": {},
   "outputs": [
    {
     "name": "stdout",
     "output_type": "stream",
     "text": [
      "+--------------+------------------------+------------------------+-------------------------+-------------------------+-------------------+\n",
      "|rcse_client_id|rcse_client_vendor_sdesc|rcse_client_vendor_ldesc|rcse_client_version_sdesc|rcse_client_version_ldesc|modification_date  |\n",
      "+--------------+------------------------+------------------------+-------------------------+-------------------------+-------------------+\n",
      "|-999          |Unknown                 |Unknown                 |Unknown                  |Unknown                  |1900-01-01 00:00:00|\n",
      "|1             |DTAG                    |DTAG                    |4.0.40                   |4.0.40                   |2013-01-17 10:55:04|\n",
      "|2             |WITS                    |WITS                    |RCSIOS-1.3.1             |RCSIOS-1.3.1             |2013-01-17 10:55:04|\n",
      "|3             |NWIN                    |NWIN                    |NWIN-1.0                 |NWIN-1.0                 |2013-01-17 10:55:04|\n",
      "|4             |DTAG                    |DTAG                    |4.0.32 BUI               |4.0.32 BUI               |2013-01-17 10:55:04|\n",
      "|5             |DTAG                    |DTAG                    |RCSEANDR-5.45            |RCSEANDR-5.45            |2013-01-17 10:55:04|\n",
      "|6             |DTAG                    |DTAG                    |RCSEANDR-5.47            |RCSEANDR-5.47            |2013-01-17 10:55:04|\n",
      "|7             |SONY                    |SONY                    |2.4.11                   |2.4.11                   |2013-01-17 10:55:04|\n",
      "|8             |WITS                    |WITS                    |1.3.0.RC7                |1.3.0.RC7                |2013-01-17 10:55:04|\n",
      "|9             |SEC                     |SEC                     |RCSANDR-1.0              |RCSANDR-1.0              |2013-01-17 10:55:04|\n",
      "|10            |WITS                    |WITS                    |RCSIOS-1.4.0.DR          |RCSIOS-1.4.0.DR          |2013-01-17 10:55:04|\n",
      "|11            |DTAG                    |DTAG                    |RCSEANDR-5.40            |RCSEANDR-5.40            |2013-01-17 10:55:04|\n",
      "|12            |DTAG                    |DTAG                    |RCSEANDR-5.42            |RCSEANDR-5.42            |2013-01-17 10:55:04|\n",
      "|13            |DTAG                    |DTAG                    |RCSEANDR-5.44            |RCSEANDR-5.44            |2013-01-17 10:55:04|\n",
      "|14            |DTAG                    |DTAG                    |4.0.37                   |4.0.37                   |2013-01-17 10:55:04|\n",
      "|15            |DTAG                    |DTAG                    |4.0.39                   |4.0.39                   |2013-01-17 10:55:04|\n",
      "|16            |DTAG                    |DTAG                    |4.0.38                   |4.0.38                   |2013-01-17 10:55:04|\n",
      "|17            |WITS                    |WITS                    |RCSANDRD-1.4             |RCSANDRD-1.4             |2013-01-17 10:55:04|\n",
      "|18            |WITS                    |WITS                    |RCSIOS-1.4.0.RC          |RCSIOS-1.4.0.RC          |2013-01-17 10:55:04|\n",
      "|19            |WITS                    |WITS                    |RCSANDRD-1.3             |RCSANDRD-1.3             |2013-01-17 10:56:27|\n",
      "+--------------+------------------------+------------------------+-------------------------+-------------------------+-------------------+\n",
      "only showing top 20 rows\n",
      "\n",
      "+-------------------+---------------------+-------------------+\n",
      "|rcse_terminal_sw_id|rcse_terminal_sw_desc|modification_date  |\n",
      "+-------------------+---------------------+-------------------+\n",
      "|-999               |Unknown              |1900-01-01 00:00:00|\n",
      "|1                  |2.29.110.6           |2013-01-17 10:55:04|\n",
      "|2                  |2.21.111.1           |2013-01-17 10:55:04|\n",
      "|3                  |I9300XXELR           |2013-01-17 10:55:04|\n",
      "|4                  |6.0.1                |2013-01-17 10:55:04|\n",
      "|5                  |6.0                  |2013-01-17 10:55:04|\n",
      "|6                  |5.1.1                |2013-01-17 10:55:04|\n",
      "|7                  |WP8                  |2013-01-17 10:55:04|\n",
      "|8                  |2.38.111.1           |2013-01-17 10:55:04|\n",
      "|9                  |3.33.111.1           |2013-01-17 10:55:04|\n",
      "|10                 |6.0.2                |2013-01-17 10:55:04|\n",
      "|11                 |4.1.1                |2013-01-17 10:55:04|\n",
      "|12                 |5.0.1                |2013-01-17 10:55:04|\n",
      "|13                 |3.32.401.1           |2013-01-17 10:55:04|\n",
      "|14                 |4.0.4                |2013-01-17 10:55:04|\n",
      "|15                 |2.22.111.1           |2013-01-17 10:56:27|\n",
      "|16                 |2.3.5                |2013-01-17 10:56:27|\n",
      "|17                 |4.1.2                |2013-01-17 10:56:27|\n",
      "|18                 |4.3.5                |2013-01-17 10:56:27|\n",
      "|19                 |2.26.111.1           |2013-01-17 10:57:04|\n",
      "+-------------------+---------------------+-------------------+\n",
      "only showing top 20 rows\n",
      "\n",
      "+----------------+--------+-----------+--------------------------+--------------------------+-------------------------+-------------------------+-------------------+\n",
      "|rcse_terminal_id|tac_code|terminal_id|rcse_terminal_vendor_sdesc|rcse_terminal_vendor_ldesc|rcse_terminal_model_sdesc|rcse_terminal_model_ldesc|modification_date  |\n",
      "+----------------+--------+-----------+--------------------------+--------------------------+-------------------------+-------------------------+-------------------+\n",
      "|-999            |null    |null       |Unknown                   |Unknown                   |Unknown                  |Unknown                  |1900-01-01 00:00:00|\n",
      "|1               |null    |2246       |Samsung                   |Samsung                   |Galaxy Note              |Galaxy Note              |2013-01-17 10:55:04|\n",
      "|2               |null    |1953       |Sony Ericsson             |Sony Ericsson             |Proto Type Device        |Proto Type Device        |2013-01-17 10:55:04|\n",
      "|3               |null    |2035       |Nokia                     |Nokia                     |Proto Type Device        |Proto Type Device        |2013-01-17 10:55:04|\n",
      "|4               |null    |2238       |Samsung                   |Samsung                   |I9001 Galaxy S Plus      |I9001 Galaxy S Plus      |2013-01-17 10:55:04|\n",
      "|5               |null    |1913       |HTC                       |HTC                       |Desire                   |Desire                   |2013-01-17 10:55:04|\n",
      "|6               |null    |3119       |HTC                       |HTC                       |One S                    |One S                    |2013-01-17 10:55:04|\n",
      "|7               |null    |null       |SAMS                      |SAMS                      |GT-I9000                 |GT-I9000                 |2013-01-17 10:55:04|\n",
      "|8               |null    |3120       |Samsung                   |Samsung                   |Galaxy S III             |Galaxy S III             |2013-01-17 10:55:04|\n",
      "|9               |null    |3164       |HTC                       |HTC                       |OneXL                    |OneXL                    |2013-01-17 10:55:04|\n",
      "|10              |null    |3081       |Sony                      |Sony                      |Xperia S                 |Xperia S                 |2013-01-17 10:55:04|\n",
      "|11              |null    |3238       |Samsung                   |Samsung                   |Galaxy Note2 LTE         |Galaxy Note2 LTE         |2013-01-17 10:55:04|\n",
      "|12              |null    |2139       |Samsung                   |Samsung                   |Galaxy S2                |Galaxy S2                |2016-06-30 03:03:25|\n",
      "|13              |null    |null       |APPL                      |APPL                      |IPHONE                   |IPHONE                   |2013-01-17 10:55:04|\n",
      "|14              |null    |3240       |Samsung                   |Samsung                   |Galaxy S3 LTE            |Galaxy S3 LTE            |2013-01-17 10:55:04|\n",
      "|15              |null    |3123       |Samsung                   |Samsung                   |Galaxy S II LTE I9210    |Galaxy S II LTE I9210    |2013-01-17 10:55:04|\n",
      "|16              |null    |3117       |HTC                       |HTC                       |Sensation XE             |Sensation XE             |2013-01-17 10:55:04|\n",
      "|17              |null    |3236       |Samsung                   |Samsung                   |Galaxy Note 10.1 LTE     |Galaxy Note 10.1 LTE     |2013-01-17 10:56:27|\n",
      "|18              |null    |2807       |Sony Ericsson             |Sony Ericsson             |Xperia active            |Xperia active            |2013-01-17 10:56:27|\n",
      "|19              |null    |2283       |Sony Ericsson             |Sony Ericsson             |Xperia Mini Pro          |Xperia Mini Pro          |2013-01-17 10:56:27|\n",
      "+----------------+--------+-----------+--------------------------+--------------------------+-------------------------+-------------------------+-------------------+\n",
      "only showing top 20 rows\n",
      "\n"
     ]
    },
    {
     "data": {
      "text/plain": [
       "import org.apache.spark.sql.types.{DateType, IntegerType, LongType, StringType, StructField, StructType, TimestampType, DoubleType}\n",
       "clientSchema: org.apache.spark.sql.types.StructType = StructType(StructField(rcse_client_id,IntegerType,true), StructField(rcse_client_vendor_sdesc,StringType,true), StructField(rcse_client_vendor_ldesc,StringType,true), StructField(rcse_client_version_sdesc,StringType,true), StructField(rcse_client_version_ldesc,StringType,true), StructField(modification_date,TimestampType,true), StructField(entry_id,IntegerType,true), StructField(load_date,TimestampType,true))\n",
       "terminalSWSchema: org.apache.spark.sql.types.StructType = StructType(StructField(rcse_terminal_sw_id,IntegerType,true), StructField(rcse_terminal_sw_desc,StringType,true), StructField(modification_d..."
      ]
     },
     "execution_count": 44,
     "metadata": {},
     "output_type": "execute_result"
    }
   ],
   "source": [
    "import org.apache.spark.sql.types.{DateType,IntegerType,LongType, StringType, StructField, StructType, TimestampType,DoubleType}\n",
    "\n",
    "val clientSchema = StructType(\n",
    "    Seq(\n",
    "      StructField(\"rcse_client_id\", IntegerType, true),\n",
    "      StructField(\"rcse_client_vendor_sdesc\", StringType, true),\n",
    "      StructField(\"rcse_client_vendor_ldesc\", StringType, true),\n",
    "      StructField(\"rcse_client_version_sdesc\", StringType, true),\n",
    "      StructField(\"rcse_client_version_ldesc\", StringType, true),\n",
    "      StructField(\"modification_date\", TimestampType, true),\n",
    "      StructField(\"entry_id\", IntegerType, true),\n",
    "      StructField(\"load_date\", TimestampType, true)\n",
    "    )\n",
    "  )\n",
    "val terminalSWSchema = StructType(\n",
    "    Seq(\n",
    "      StructField(\"rcse_terminal_sw_id\", IntegerType, true),\n",
    "      StructField(\"rcse_terminal_sw_desc\", StringType, true),\n",
    "      StructField(\"modification_date\", TimestampType, true),\n",
    "      StructField(\"entry_id\", IntegerType, true),\n",
    "      StructField(\"load_date\", TimestampType, true)\n",
    "\n",
    "    )\n",
    "  )\n",
    "val terminal_d_struct = StructType(\n",
    "    Seq(\n",
    "      StructField(\"rcse_terminal_id\", IntegerType, true),\n",
    "      StructField(\"tac_code\", StringType, true),\n",
    "      StructField(\"terminal_id\", IntegerType, true),\n",
    "      StructField(\"rcse_terminal_vendor_sdesc\", StringType, true),\n",
    "      StructField(\"rcse_terminal_vendor_ldesc\", StringType, true),\n",
    "      StructField(\"rcse_terminal_model_sdesc\", StringType, true),\n",
    "      StructField(\"rcse_terminal_model_ldesc\", StringType, true),\n",
    "      StructField(\"modification_date\", TimestampType, true),\n",
    "      StructField(\"entry_id\", IntegerType, true),\n",
    "      StructField(\"load_date\", TimestampType, true)\n",
    "    )\n",
    "  )\n",
    "\n",
    "val initConfSchema = StructType(\n",
    "    Seq(\n",
    "      StructField(\"date_id\", DateType, true),\n",
    "      StructField(\"natco_code\", StringType, true),\n",
    "      StructField(\"rcse_init_client_id\", IntegerType, true),\n",
    "      StructField(\"rcse_init_terminal_id\", IntegerType, true),\n",
    "      StructField(\"rcse_init_terminal_sw_id\", IntegerType, true),\n",
    "      StructField(\"rcse_num_tc_acc\", IntegerType, true),\n",
    "      StructField(\"rcse_num_tc_den\", IntegerType, true),\n",
    "      StructField(\"entry_id\", IntegerType, true),\n",
    "      StructField(\"load_date\", TimestampType, true)\n",
    "    )\n",
    "  )\n",
    "val confFileSchema = StructType(\n",
    "    Seq(\n",
    "      StructField(\"date_id\", DateType, true),\n",
    "      StructField(\"natco_code\", StringType, true),\n",
    "      StructField(\"msisdn\", StringType, true),\n",
    "      StructField(\"rcse_tc_status_id\", IntegerType, true),\n",
    "      StructField(\"rcse_init_client_id\", IntegerType, true),\n",
    "      StructField(\"rcse_init_terminal_id\", IntegerType, true),\n",
    "      StructField(\"rcse_init_terminal_sw_id\", IntegerType, true),\n",
    "      StructField(\"rcse_curr_client_id\", IntegerType, true),\n",
    "      StructField(\"rcse_curr_terminal_id\", IntegerType, true),\n",
    "      StructField(\"rcse_curr_terminal_sw_id\", IntegerType, true),\n",
    "      StructField(\"modification_date\", DateType, true),\n",
    "      StructField(\"entry_id\", IntegerType, true),\n",
    "      StructField(\"load_date\", TimestampType, true)\n",
    "    )\n",
    "  )\n",
    "val initUsersSchema = StructType(\n",
    "    Seq(\n",
    "      StructField(\"date_id\", DateType, true),\n",
    "      StructField(\"natco_code\", StringType, true),\n",
    "      StructField(\"rcse_init_client_id\", IntegerType, true),\n",
    "      StructField(\"rcse_init_terminal_id\", IntegerType, true),\n",
    "      StructField(\"rcse_init_terminal_sw_id\", IntegerType, true),\n",
    "      StructField(\"rcse_reg_users_new\", IntegerType, true),\n",
    "      StructField(\"rcse_reg_users_all\", IntegerType, true),\n",
    "      StructField(\"entry_id\", IntegerType, true),\n",
    "      StructField(\"load_date\", TimestampType, true)\n",
    "    )\n",
    "  )\n",
    " val regDerSchema = StructType(\n",
    "    Seq(\n",
    "      StructField(\"date_id\", DateType, true),\n",
    "      StructField(\"natco_code\", StringType, true),\n",
    "      StructField(\"msisdn\", StringType, true),\n",
    "      StructField(\"imsi\", StringType, true),\n",
    "      StructField(\"rcse_event_type\", StringType, true),\n",
    "      StructField(\"rcse_subscribed_status_id\", IntegerType, true),\n",
    "      StructField(\"rcse_active_status_id\", IntegerType, true),\n",
    "      StructField(\"rcse_tc_status_id\", IntegerType, true),\n",
    "      StructField(\"tac_code\", StringType, true),\n",
    "      StructField(\"rcse_version\", StringType, true),\n",
    "      StructField(\"rcse_client_id\", IntegerType, true),\n",
    "      StructField(\"rcse_terminal_id\", IntegerType, true),\n",
    "      StructField(\"rcse_terminal_sw_id\", IntegerType, true),\n",
    "      StructField(\"entry_id\", IntegerType, true),\n",
    "      StructField(\"load_date\", TimestampType, true)\n",
    "    )\n",
    "  )\n",
    "\n",
    "val activeUsersSchema = StructType(\n",
    "    Seq(\n",
    "      StructField(\"date_id\", DateType, true),\n",
    "      StructField(\"natco_code\", StringType, true),\n",
    "      StructField(\"msisdn\", StringType, true),\n",
    "      StructField(\"rcse_tc_status_id\", IntegerType, true),\n",
    "      StructField(\"rcse_curr_client_id\", IntegerType, true),\n",
    "      StructField(\"rcse_curr_terminal_id\", IntegerType, true),\n",
    "      StructField(\"rcse_curr_terminal_sw_id\", IntegerType, true),\n",
    "      StructField(\"entry_id\", IntegerType, true),\n",
    "      StructField(\"load_date\", TimestampType, true)\n",
    "    )\n",
    "  )\n",
    "\n",
    "val tac_struct = StructType(\n",
    "    Seq(\n",
    "      StructField(\"terminal_id\", IntegerType, true),\n",
    "      StructField(\"tac_code\", StringType, true),\n",
    "      StructField(\"id\", IntegerType, true),\n",
    "      StructField(\"manufacturer\", StringType, true),\n",
    "      StructField(\"model\", StringType, true),\n",
    "      StructField(\"model_alias\", StringType, true),\n",
    "      StructField(\"csso_alias\", StringType, true),\n",
    "      StructField(\"status\", StringType, true),\n",
    "      StructField(\"international_material_number\", StringType, true),\n",
    "      StructField(\"launch_date\", DateType, true),\n",
    "      StructField(\"gsm_bandwidth\", StringType, true),\n",
    "      StructField(\"gprs_capable\", StringType, true),\n",
    "      StructField(\"edge_capable\", StringType, true),\n",
    "      StructField(\"umts_capable\", StringType, true),\n",
    "      StructField(\"wlan_capable\", StringType, true),\n",
    "      StructField(\"form_factor\", StringType, true),\n",
    "      StructField(\"handset_tier\", StringType, true),\n",
    "      StructField(\"wap_type\", StringType, true),\n",
    "      StructField(\"wap_push_capable\", StringType, true),\n",
    "      StructField(\"colour_depth\", StringType, true),\n",
    "      StructField(\"mms_capable\", StringType, true),\n",
    "      StructField(\"camera_type\", StringType, true),\n",
    "      StructField(\"camera_resolution\", StringType, true),\n",
    "      StructField(\"video_messaging_capable\", StringType, true),\n",
    "      StructField(\"ringtone_type\", StringType, true),\n",
    "      StructField(\"java_capable\", StringType, true),\n",
    "      StructField(\"email_client\", StringType, true),\n",
    "      StructField(\"email_push_capable\", StringType, true),\n",
    "      StructField(\"operating_system\", StringType, true),\n",
    "      StructField(\"golden_gate_user_interface\", StringType, true),\n",
    "      StructField(\"tzones_hard_key\", StringType, true),\n",
    "      StructField(\"bluetooth_capable\", StringType, true),\n",
    "      StructField(\"tm3_capable\", StringType, true),\n",
    "      StructField(\"terminal_full_name\", StringType, true),\n",
    "      StructField(\"video_record\", StringType, true),\n",
    "      StructField(\"valid_from\", DateType, true),\n",
    "      StructField(\"valid_to\", DateType, true),\n",
    "      StructField(\"entry_id\", IntegerType, true),\n",
    "      StructField(\"load_date\", TimestampType, true)\n",
    "\n",
    "    )\n",
    "  )\n",
    "\n",
    "def readData(schema: StructType, path: String) = { \n",
    "    spark\n",
    "    .read\n",
    "    .schema(schema)\n",
    "    .option(\"delimiter\", \"|\")\n",
    "    .csv(path)\n",
    "    .drop(\"entry_id\",\"load_date\")\n",
    "}\n",
    "\n",
    "val client = readData(clientSchema, \n",
    "                      \"/Users/ondrejmachacek/Projects/TMobile/EWH/EWH/rcse/data/stage/cptm_ta_d_rcse_client.csv\" )\n",
    "val terminalSw = readData(terminalSWSchema,\n",
    "                         \"/Users/ondrejmachacek/Projects/TMobile/EWH/EWH/rcse/data/stage/cptm_ta_d_rcse_terminal_sw.csv\")\n",
    "val terminal = readData(terminal_d_struct,\n",
    "                         \"/Users/ondrejmachacek/Projects/TMobile/EWH/EWH/rcse/data/stage/cptm_ta_d_rcse_terminal.csv\")\n",
    "\n",
    "\n",
    "client.show(false)\n",
    "terminalSw.show(false)\n",
    "terminal.show(false)\n"
   ]
  },
  {
   "cell_type": "code",
   "execution_count": 49,
   "metadata": {},
   "outputs": [
    {
     "name": "stdout",
     "output_type": "stream",
     "text": [
      "root\n",
      " |-- rcse_client_id: integer (nullable = true)\n",
      " |-- rcse_client_vendor_sdesc: string (nullable = true)\n",
      " |-- rcse_client_vendor_ldesc: string (nullable = true)\n",
      " |-- rcse_client_version_sdesc: string (nullable = true)\n",
      " |-- rcse_client_version_ldesc: string (nullable = true)\n",
      " |-- modification_date: timestamp (nullable = true)\n",
      "\n"
     ]
    },
    {
     "data": {
      "text/plain": [
       "import org.apache.spark.sql.{DataFrame, SaveMode}\n",
       "writeParquet: (data: org.apache.spark.sql.DataFrame, path: String, mode: org.apache.spark.sql.SaveMode)Unit\n"
      ]
     },
     "execution_count": 49,
     "metadata": {},
     "output_type": "execute_result"
    }
   ],
   "source": [
    "//Write parquets\n",
    "import org.apache.spark.sql.{DataFrame, SaveMode}\n",
    "\n",
    "def writeParquet(data: DataFrame, path: String, mode: SaveMode = SaveMode.Overwrite) = {\n",
    "    data\n",
    "    .repartition(1)\n",
    "    .write\n",
    "    .mode(mode)\n",
    "    .parquet(path)\n",
    "}\n",
    "\n",
    "client.printSchema()\n",
    "\n",
    "writeParquet(client, \"/Users/ondrejmachacek/tmp/rcse/stageParquets/cptm_ta_d_rcse_client\")\n",
    "writeParquet(terminalSw, \"/Users/ondrejmachacek/tmp/rcse/stageParquets/cptm_ta_d_rcse_terminal_sw\")\n",
    "writeParquet(terminal, \"/Users/ondrejmachacek/tmp/rcse/stageParquets/cptm_ta_d_rcse_terminal\")\n",
    "\n",
    "\n",
    "\n"
   ]
  },
  {
   "cell_type": "code",
   "execution_count": 38,
   "metadata": {},
   "outputs": [
    {
     "data": {
      "text/plain": [
       "tac: org.apache.spark.sql.DataFrame = [terminal_id: int, tac_code: string ... 36 more fields]\n"
      ]
     },
     "execution_count": 38,
     "metadata": {},
     "output_type": "execute_result"
    }
   ],
   "source": [
    "val tac  = spark\n",
    "    .read\n",
    "    .schema(tac_struct)\n",
    "    .option(\"delimiter\", \"|\")\n",
    "    .csv(\"/Users/ondrejmachacek/Projects/TMobile/EWH/EWH/rcse/data/stage/cptm_ta_d_tac.csv\")\n",
    ".drop(\"entry_id\")\n",
    "\n",
    "writeParquet(tac, \"/Users/ondrejmachacek/tmp/rcse/stageParquets/cptm_ta_d_tac\")"
   ]
  },
  {
   "cell_type": "code",
   "execution_count": 24,
   "metadata": {},
   "outputs": [
    {
     "data": {
      "text/plain": [
       "writeParquetP: (data: org.apache.spark.sql.DataFrame, path: String, mode: org.apache.spark.sql.SaveMode)Unit\n"
      ]
     },
     "execution_count": 24,
     "metadata": {},
     "output_type": "execute_result"
    }
   ],
   "source": [
    "def writeParquetP(data: DataFrame, path: String, mode: SaveMode = SaveMode.Append) = {\n",
    "    data\n",
    "    .repartition(1)\n",
    "    .write\n",
    "    .partitionBy(\"date\")\n",
    "    .mode(mode)\n",
    "    .parquet(path)\n",
    "}\n"
   ]
  },
  {
   "cell_type": "code",
   "execution_count": 52,
   "metadata": {},
   "outputs": [
    {
     "data": {
      "text/plain": [
       "initConf: org.apache.spark.sql.DataFrame = [date_id: date, natco_code: string ... 5 more fields]\n"
      ]
     },
     "execution_count": 52,
     "metadata": {},
     "output_type": "execute_result"
    }
   ],
   "source": [
    "val initConf = readData(initConfSchema,\n",
    "                         \"/Users/ondrejmachacek/Projects/TMobile/EWH/EWH/rcse/data/stage/cptm_ta_x_rcse_init_conf.TMD.20200606.csv.gz\")\n",
    "\n",
    "writeParquetP(initConf.withColumn(\"date\", lit(\"2020-06-06\")), \n",
    "             \"/Users/ondrejmachacek/tmp/rcse/stageParquets/cptm_ta_x_rcse_init_conf\")\n"
   ]
  },
  {
   "cell_type": "code",
   "execution_count": 28,
   "metadata": {},
   "outputs": [
    {
     "data": {
      "text/plain": [
       "conf: org.apache.spark.sql.DataFrame = [date_id: date, natco_code: string ... 9 more fields]\n"
      ]
     },
     "execution_count": 28,
     "metadata": {},
     "output_type": "execute_result"
    }
   ],
   "source": [
    "val conf = readData(confFileSchema,\n",
    "                         \"/Users/ondrejmachacek/Projects/TMobile/EWH/EWH/rcse/data/stage/cptm_ta_f_rcse_conf.TMD.20200606.csv.gz\")\n",
    "\n",
    "writeParquetP(conf.withColumn(\"date\", lit(\"2020-06-06\")), \n",
    "             \"/Users/ondrejmachacek/tmp/rcse/stageParquets/cptm_ta_f_rcse_conf.TMD\")\n",
    "\n",
    "\n",
    "\n"
   ]
  },
  {
   "cell_type": "code",
   "execution_count": 30,
   "metadata": {},
   "outputs": [
    {
     "data": {
      "text/plain": [
       "regDer: org.apache.spark.sql.DataFrame = [date_id: date, natco_code: string ... 11 more fields]\n"
      ]
     },
     "execution_count": 30,
     "metadata": {},
     "output_type": "execute_result"
    }
   ],
   "source": [
    "val regDer = readData(regDerSchema,\n",
    "                         \"/Users/ondrejmachacek/Projects/TMobile/EWH/EWH/rcse/data/stage/cptm_ta_f_rcse_events.TMD.20200606.reg_der.csv.gz\")\n",
    "writeParquetP(regDer.withColumn(\"date\", lit(\"2020-06-06\")), \n",
    "             \"/Users/ondrejmachacek/tmp/rcse/stageParquets/cptm_ta_f_rcse_events.TMD.reg_der\")\n",
    "\n",
    "\n",
    "\n"
   ]
  },
  {
   "cell_type": "code",
   "execution_count": 32,
   "metadata": {},
   "outputs": [
    {
     "data": {
      "text/plain": [
       "initUser: org.apache.spark.sql.DataFrame = [date_id: date, natco_code: string ... 5 more fields]\n"
      ]
     },
     "execution_count": 32,
     "metadata": {},
     "output_type": "execute_result"
    }
   ],
   "source": [
    "val initUser = readData(initUsersSchema,\n",
    "                         \"/Users/ondrejmachacek/Projects/TMobile/EWH/EWH/rcse/data/stage/cptm_ta_x_rcse_init_user.TMD.20200606.csv.gz\")\n",
    "\n",
    "writeParquetP(initUser.withColumn(\"date\", lit(\"2020-06-06\")), \n",
    "             \"/Users/ondrejmachacek/tmp/rcse/stageParquets/cptm_ta_x_rcse_init_user.TMD\")\n",
    "\n",
    "\n",
    "\n"
   ]
  },
  {
   "cell_type": "code",
   "execution_count": 35,
   "metadata": {},
   "outputs": [
    {
     "data": {
      "text/plain": [
       "activeU: org.apache.spark.sql.DataFrame = [date_id: date, natco_code: string ... 5 more fields]\n"
      ]
     },
     "execution_count": 35,
     "metadata": {},
     "output_type": "execute_result"
    }
   ],
   "source": [
    "val activeU = readData(activeUsersSchema,\n",
    "                         \"/Users/ondrejmachacek/Projects/TMobile/EWH/EWH/rcse/data/stage/cptm_ta_f_rcse_active_user.TMD.20200606.csv*\")\n",
    "\n",
    "writeParquetP(activeU.withColumn(\"date\", lit(\"2020-06-06\")), \n",
    "             \"/Users/ondrejmachacek/tmp/rcse/stageParquets/cptm_ta_f_rcse_active_user.TMD\")\n",
    "\n",
    "\n"
   ]
  },
  {
   "cell_type": "code",
   "execution_count": 41,
   "metadata": {},
   "outputs": [
    {
     "name": "stdout",
     "output_type": "stream",
     "text": [
      "root\n",
      " |-- rcse_terminal_sw_id: integer (nullable = true)\n",
      " |-- rcse_terminal_sw_desc: string (nullable = true)\n",
      " |-- modification_date: timestamp (nullable = true)\n",
      "\n"
     ]
    },
    {
     "data": {
      "text/plain": [
       "test: org.apache.spark.sql.DataFrame = [rcse_terminal_sw_id: int, rcse_terminal_sw_desc: string ... 1 more field]\n",
       "res36: Int = 12651\n"
      ]
     },
     "execution_count": 41,
     "metadata": {},
     "output_type": "execute_result"
    }
   ],
   "source": [
    "val test = spark.read.parquet(\"/Users/ondrejmachacek/tmp/rcse/stageParquets/cptm_ta_d_rcse_terminal_sw\")\n",
    "\n",
    "test.printSchema()\n",
    "test.select(max(\"rcse_terminal_sw_id\")).collect()(0).getInt(0)"
   ]
  },
  {
   "cell_type": "code",
   "execution_count": null,
   "metadata": {},
   "outputs": [],
   "source": []
  }
 ],
 "metadata": {
  "kernelspec": {
   "display_name": "spylon-kernel",
   "language": "scala",
   "name": "spylon-kernel"
  },
  "language_info": {
   "codemirror_mode": "text/x-scala",
   "file_extension": ".scala",
   "help_links": [
    {
     "text": "MetaKernel Magics",
     "url": "https://metakernel.readthedocs.io/en/latest/source/README.html"
    }
   ],
   "mimetype": "text/x-scala",
   "name": "scala",
   "pygments_lexer": "scala",
   "version": "0.4.1"
  }
 },
 "nbformat": 4,
 "nbformat_minor": 2
}
